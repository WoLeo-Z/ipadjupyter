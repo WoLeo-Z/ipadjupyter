{
 "cells": [
  {
   "cell_type": "code",
   "execution_count": 1,
   "metadata": {},
   "outputs": [
    {
     "name": "stdout",
     "output_type": "stream",
     "text": [
      "tt\n"
     ]
    }
   ],
   "source": [
    "def InitialiseBoard():
    Board=[['-' for j in range(11)]for i in range(11)]
    for i in range (0,11):
        for j in range(0,11):
            if i==0 and j>0:
                Board[i][j]=j
            if j==0 and i>0:
                Board[i][j]=chr(64+i)
    return Board
def SetUpGame():
    ThisPlayer='O'
    GameFinished=False
    return ThisPlayer,GameFinished
def OutputBoard(Board):
    print("----------------------------------------------------")
    for Row in range (0,11):
        for Column in range(0,11):
            print(Board[Row][Column],end='  ')
        print('\n')
    print("----------------------------------------------------")
    return
def PlayerMakesMove():
    ValidRow,UserInput=PlayerChoosesRow()
    ValidColumn=PlayerChoosesColumn(UserInput)
    if ValidMove(int(ValidRow),int(ValidColumn))==True:
        Board[int(ValidRow)][int(ValidColumn)]=ThisPlayer
    else:
        print("This is an invalid move, try again.")
        print("-----------------------------------------------")
        PlayerMakesMove()
    return Board,ValidRow,ValidColumn
def PlayerChoosesColumn(UserInput):
    ColumnNumber=0
    while ColumnNumberValid(ColumnNumber) == False :
        while len(UserInput)==1:
            print("Enter a valid column number please.")
            UserInput=str(input())
        i=1
        flag=False
        while flag==True or i<=len(UserInput)-1:
            if UserInput[i].isalpha():
                flag=True 
                UserInput=str(input("Enter a valid column number ,please."))
                i=1
            elif UserInput[i].isdigit():
                flag=False
                i=i+1
        if len(UserInput)==2 and UserInput[1].isdigit():
            ColumnNumber=UserInput[1]
        elif len(UserInput)==3 and UserInput[1].isdigit and UserInput[2].isdigit():
            ColumnNumber=UserInput[1]+UserInput[2]
        if ColumnNumberValid(ColumnNumber) == False:
            print("Enter a valid column number:")
    return ColumnNumber
def PlayerChoosesRow():
    RowNumber=0
    print("Player",ThisPlayer,"'s turn")
    while RowNumberValid(RowNumber)==False and str(RowNumber)<='J':
        print("Enter a valid row and column, like A2:")
        UserInput=str(input())
        RowNumber=UserInput[0]
        RowEnter=RowNumber
        RowNumber=ord(RowEnter)-64
    return RowNumber,UserInput
def ColumnNumberValid(ColumnNumber):
    Valid=False
    if int(ColumnNumber)>=1 and int(ColumnNumber)<=10:
        for i in range(1,11):
            if Board[i][int(ColumnNumber)]=='-':
                Valid=True
    else:
        Valid=False
    return Valid
def RowNumberValid(RowNumber):
    Valid=False
    if RowNumber>=1 and RowNumber<=10:
        for i in range(1,11):
            if Board[RowNumber][i]=='-':
                Valid=True
    else:
        Valid=False
    return Valid
def ValidMove(ValidRow,ValidColumn):
    Valid=False
    if Board[int(ValidRow)][int(ValidColumn)]=='-':
        Valid=True
    return Valid
def CheckGameFinished():
    WinnerFound=False
    WinnerFound=CheckIfPlayerHasWon(WinnerFound)
    if WinnerFound==True:
        GameFinished=True
        print(ThisPlayer,"is the winner")
    else:
        GameFinished=CheckForFullBoard()
    return GameFinished
def CheckIfPlayerHasWon(WinnerFound):
    WinnerFound=CheckHorizontaLine(WinnerFound)
    if WinnerFound==False:
        WinnerFound=CheckVerticalLine(WinnerFound)
        if WinnerFound==False:
            WinnerFound=CheckDiagonal1(int(ValidRow),int(ValidColumn),WinnerFound)
            if WinnerFound==False:
                WinnerFound=CheckDiagonal2(int(ValidRow),int(ValidColumn),WinnerFound)
    return WinnerFound
def CheckHorizontaLine(WinnerFound):
    for i in range(1,7):
        if (Board[int(ValidRow)][i]==ThisPlayer) and (Board[int(ValidRow)][i+1]==ThisPlayer) and (Board[int(ValidRow)][i+2]==ThisPlayer) and (Board[int(ValidRow)][i+3]==ThisPlayer) and (Board[int(ValidRow)][i+4]==ThisPlayer):
            WinnerFound=True
    return WinnerFound
def CheckVerticalLine(WinnerFound):
    for i in range(1,7):
        if (Board[i][int(ValidColumn)]==ThisPlayer) and (Board[i+1][int(ValidColumn)]==ThisPlayer) and (Board[i+2][int(ValidColumn)]==ThisPlayer) and (Board[i+3][int(ValidColumn)]==ThisPlayer) and (Board[i+4][int(ValidColumn)]==ThisPlayer):
            WinnerFound=True
    return WinnerFound
def CheckDiagonal1(ValidRow,ValidColumn,WinnerFound):
    while (int(ValidRow)!=1 and int(ValidColumn)>1) or (int(ValidColumn)!=1 and int(ValidRow)>1):
        ValidRow=ValidRow-1
        ValidColumn=ValidColumn-1
    if int(ValidRow)<=6 and int(ValidColumn)==1:
        for i in range(0,-1+(10-ValidRow)//2):
            if (Board[int(ValidRow)+i][int(ValidColumn)+i]==ThisPlayer) and (Board[int(ValidRow)+i+1][int(ValidColumn)+i+1]==ThisPlayer) and (Board[int(ValidRow)+i+2][int(ValidColumn)+i+2]==ThisPlayer) and (Board[int(ValidRow)+i+3][int(ValidColumn)+i+3]==ThisPlayer) and (Board[int(ValidRow)+i+4][int(ValidColumn)+i+4]==ThisPlayer):
                WinnerFound=True
    elif int(ValidColumn)<=6 and int(ValidRow)==1:
        for i in range(0,-1+(10-ValidColumn)//2):
            if (Board[int(ValidRow)+i][int(ValidColumn)+i]==ThisPlayer) and (Board[int(ValidRow)+i+1][int(ValidColumn)+i+1]==ThisPlayer) and (Board[int(ValidRow)+i+2][int(ValidColumn)+i+2]==ThisPlayer) and (Board[int(ValidRow)+i+3][int(ValidColumn)+i+3]==ThisPlayer) and (Board[int(ValidRow)+i+4][int(ValidColumn)+i+4]==ThisPlayer):
                WinnerFound=True
    return WinnerFound
def CheckDiagonal2(ValidRow,ValidColumn,WinnerFound):
    while (int(ValidRow)!=10 and (int(ValidRow)<10 and int(ValidColumn)>1)) or (int(ValidColumn)!=1  and (int(ValidRow)<10 and int(ValidColumn)>0)):
        ValidRow=ValidRow+1
        ValidColumn=ValidColumn-1
    if (int(ValidRow)>=5 and int(ValidColumn)==1):
        for i in range(0,ValidRow//2):
            if (Board[int(ValidRow)-i][int(ValidColumn)+i]==ThisPlayer) and (Board[int(ValidRow)-i-1][int(ValidColumn)+i+1]==ThisPlayer) and (Board[int(ValidRow)-i-2][int(ValidColumn)+i+2]==ThisPlayer) and (Board[int(ValidRow)+i-3][int(ValidColumn)-i+3]==ThisPlayer) and (Board[int(ValidRow)-i-4][int(ValidColumn)+i+4]==ThisPlayer):
                WinnerFound=True
    elif (int(ValidColumn)<=6 and int(ValidRow)==10):
        for i in range(0,(10-ValidColumn)//2):
            if (Board[int(ValidRow)-i][int(ValidColumn)+i]==ThisPlayer) and (Board[int(ValidRow)-i-1][int(ValidColumn)+i+1]==ThisPlayer) and (Board[int(ValidRow)-i-2][int(ValidColumn)+i+2]==ThisPlayer) and (Board[int(ValidRow)+i-3][int(ValidColumn)-i+3]==ThisPlayer) and (Board[int(ValidRow)-i-4][int(ValidColumn)+i+4]==ThisPlayer):
                WinnerFound=True
    return WinnerFound
def CheckForFullBoard():
    GameFinished=False
    BlankFound=False
    ThisRow=0
    while ThisRow!=10 or BlankFound==False:
        ThisColumn=0
        ThisRow=ThisRow+1
        while ThisColumn!=10 or BlankFound==False:
            ThisColumn=ThisColumn+1
            if Board[ThisRow][ThisColumn]=='-':
                BlankFound=True
    if BlankFound==False:
        print("It is a draw")
        GameFinished=True
    return GameFinished
def SwapThisPlayer(ThisPlayer):
    if ThisPlayer=='O':
        ThisPlayer='X'
    else:
        ThisPlayer='O'
    return ThisPlayer
def Continue(cont):
    cont=True
    print(ThisPlayer,"wins the game.Would you try again?(Y/N):")
    tryi=str(input())
    if tryi=='Y' or tryi=='y':
        cont=True
    elif tryi=='N' or tryi=='n':
        cont=False
    return cont
cont=True
while cont==True:
    Board=InitialiseBoard()
    ThisPlayer,GameFinished=SetUpGame()
    OutputBoard(Board)
    while GameFinished==False:
        Board,ValidRow,ValidColumn=PlayerMakesMove()
        OutputBoard(Board)
        GameFinished=CheckGameFinished()
        if GameFinished==False:
            ThisPlayer=SwapThisPlayer(ThisPlayer)
    cont=Continue(cont)"
   ]
  },
  {
   "cell_type": "code",
   "execution_count": null,
   "metadata": {},
   "outputs": [],
   "source": []
  }
 ],
 "metadata": {
  "anaconda-cloud": {},
  "kernelspec": {
   "display_name": "Python [default]",
   "language": "python",
   "name": "python3"
  },
  "language_info": {
   "codemirror_mode": {
    "name": "ipython",
    "version": 3
   },
   "file_extension": ".py",
   "mimetype": "text/x-python",
   "name": "python",
   "nbconvert_exporter": "python",
   "pygments_lexer": "ipython3",
   "version": "3.5.6"
  }
 },
 "nbformat": 4,
 "nbformat_minor": 1
}
